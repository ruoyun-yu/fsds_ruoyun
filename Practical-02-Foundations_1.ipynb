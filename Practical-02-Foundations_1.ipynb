{
 "cells": [
  {
   "cell_type": "code",
   "execution_count": null,
   "id": "6ed1012a-3dbe-4481-a8ec-244cd9b1ee53",
   "metadata": {},
   "outputs": [],
   "source": [
    "## Practical 2: Foundations (Part 1)\n",
    "\n",
    "Getting to grips with the ‘Basics’\n",
    "\n",
    "This notebook is focussed on ensuring that you’re able to run Jupyter\n",
    "notebooks locally (i.e. on youu own computer) in Docker and are\n",
    "comfortable with the basics of Python: if you’ve already done Code Camp\n",
    "then this will be a refresher and you’ll have plenty of time to get to\n",
    "grips with Git and GitHub, which often presents significant practical\n",
    "challenges. You *should* find this notebook quite straightforward, but\n",
    "take any challenges as a sign that you need to keep practicing since\n",
    "subsequent weeks will build on these foundational concepts.\n",
    "\n",
    "> **Remember**\n",
    ">\n",
    "> Please save your work regularly, or prepare to be disappointed. This\n",
    "> will be my only reminder about this!\n",
    "\n",
    "## 1. Setting Up\n",
    "\n",
    "I’m going to assume that you’ve got Docker installed and have managed to\n",
    "‘pull’ the `jreades/sds:2024-intel` or `jreades/sds:2024-silicon` image\n",
    "at this point. If not, this is your **most urgent** priority. Please\n",
    "make one of us aware of your situation and we’ll do our best to get you\n",
    "going.\n",
    "\n",
    "### 1.1 Downloading the Practical\n",
    "\n",
    "On the [Week 2 of FSDS\n",
    "page](https://jreades.github.io/fsds/sessions/week2.html#practical)\n",
    "you’ll see that there is a ‘preview’ link and a a ‘download’ link in the\n",
    "[Practical\n",
    "section](https://jreades.github.io/fsds/sessions/week2.html#practical).\n",
    "If you click the `preview` link you will be taken to the GitHub page for\n",
    "the notebook where it has been ‘rendered’ as a web page. But to make the\n",
    "notebook useable on *your* computer, you need to `download` the IPYNB\n",
    "file.\n",
    "\n",
    "So now:\n",
    "\n",
    "1.  Click on the `Download` link.\n",
    "2.  The file should download automatically, but *if* you see a page of\n",
    "    raw code, select `File` then `Save Page As...`.\n",
    "3.  Make sure you know where to find the file (e.g. Downloads or\n",
    "    Desktop).\n",
    "4.  Move the file to your GitHub repository folder\n",
    "    (e.g. `~/Documents/CASA/fsds/`)\n",
    "5.  Check to see if your browser has added `.txt` to the file name:\n",
    "    -   If no, then you can move to adding the file.\n",
    "    -   If yes, then you can either fix the name in the Finder/Windows\n",
    "        Explore, or you can do this in the Terminal/PowerShell using\n",
    "        `mv <name_of_practical>.ipynb.txt <name_of_practical>.ipynb`\n",
    "        (you can even do this in JupyterLab’s terminal).\n",
    "6.  Now you can add it to Git and GitHub:\n",
    "    1.  `git add <name_of_practical>.ipynb`\n",
    "    2.  `git commit -m \"Adding Practical 2\"`\n",
    "    3.  `git push`\n",
    "\n",
    "The file should now be in your GitHub repository in its ‘original’\n",
    "format (before you write or run any code).\n",
    "\n",
    "### 1.2 Running Docker\n",
    "\n",
    "#### 1.2.1 Making the Notebook Available to Jupyter Lab\n",
    "\n",
    "To keep all of your notebooks and other CASA0013 content in Git/GitHub,\n",
    "you need to make sure that JupyterLab can access your local git\n",
    "repository. JupyterLab can *only* do this if the git folder is a *child*\n",
    "of the one where you ran `docker run ...`. So if your git repo is\n",
    "`~/Documents/CASA/fsds/` then you need to make sure that you start\n",
    "Docker from `~/Documents/CASA/fsds`, `~/Documents/CASA/` or\n",
    "`~/Documents/`.\n",
    "\n",
    "> **Wrong Place?**\n",
    ">\n",
    "> If you called `docker run ...` from the wrong place, then you will\n",
    "> need to stop the container. Please see the [section\n",
    "> below](#is-the-container-running-sec-containers).\n",
    "\n",
    "Remember that the startup command is something like:\n",
    "\n",
    "``` shell\n",
    "docker run ... -v \"$(pwd):/home/jovyan/work\" ...\n",
    "```\n",
    "\n",
    "The `-v` (short for *volume*) tells Docker what part of *your* computer\n",
    "(`$(pwd)`) to connect to container (`/home/jovyan/work`). `pwd` is\n",
    "short-hand for ‘print working directory’ and is the location where you\n",
    "ran the Docker startup command! So we’re talking about the location on\n",
    "*your* computer when you access the `work` folder from within\n",
    "Docker/Jupyter Lab:\n",
    "\n",
    "-   On a Mac it will *often* be your `$HOME` (also known as `~`)\n",
    "    directory (e.g. `/Users/your_username/`) because that’s where new\n",
    "    Terminal windows start by default.\n",
    "-   On a Windows machine it *may* be your `$HOME` directory but we can’t\n",
    "    promise.\n",
    "\n",
    "Perhaps a video will help clarify?\n",
    "\n",
    "<https://www.youtube.com/embed/5IkwUrYTY78>\n",
    "\n",
    "#### 1.2.2 Is the Container Running?\n",
    "\n",
    "Docker will happily keep a container running in the background even if\n",
    "you close every open window. So how do you know if the `sds2024`\n",
    "container is already running? There are two ways:\n",
    "\n",
    "1.  Open the Docker Dashboard/Desktop from the menu and make sure that\n",
    "    you select the `Containers` tab on the left (it may be hidden by a\n",
    "    message from Docker about upcoming conferences). You *should* see\n",
    "    something like this if the container is *running* and *available*:\n",
    "\n",
    "<figure>\n",
    "<img src=\"attachment:./img/Running_Container.png\"\n",
    "alt=\"Container running\" />\n",
    "<figcaption aria-hidden=\"true\">Container running</figcaption>\n",
    "</figure>\n",
    "\n",
    "1.  From the Terminal/Power Shell you should be able to run:\n",
    "    `docker ps`. This will give you output something like this:\n",
    "\n",
    "<figure>\n",
    "<img src=\"attachment:./img/Running_Container_2.png\"\n",
    "alt=\"Container running from Terminal\" />\n",
    "<figcaption aria-hidden=\"true\">Container running from\n",
    "Terminal</figcaption>\n",
    "</figure>\n",
    "\n",
    "If the `sds2024` *container* is not running then you’ll need to run the\n",
    "startup command (`docker run...`) covered in the [last practical\n",
    "session](Practical-01-Getting_Started.qmd). If it *is* running but in\n",
    "the wrong place, then you should stop it, use `cd` to navigate to the\n",
    "correct location, and then restart it.\n",
    "\n",
    "#### 1.2.3 Connect to Jupyter Lab\n",
    "\n",
    "Once you know the container is running you can connected to Jupyter Lab\n",
    "on [localhost:8888](http://localhost:8888/lab/tree/work/) and should see\n",
    "something like this:\n",
    "\n",
    "<figure>\n",
    "<img\n",
    "src=\"https://github.com/jreades/fsds/raw/master/practicals/img/1.8-Jupyter_Lab.png\"\n",
    "alt=\"Screenshot of JupyterLab\" />\n",
    "<figcaption aria-hidden=\"true\">Screenshot of JupyterLab</figcaption>\n",
    "</figure>\n",
    "\n",
    "You’re connected!\n",
    "\n",
    "## 2. Running a Notebook\n",
    "\n",
    "### 2.1 Hello World!\n",
    "\n",
    "Nearly every introduction to programming course starts with the famous\n",
    "‘Hello World!’, so why do anything different?\n",
    "\n",
    "From *within Jupyter Lab* you should now able to create a new notebook:\n",
    "\n",
    "1.  Click on the `Python (base)` tile in the `Notebook` section.\n",
    "2.  You should see a new tab open with a new notebook (title:\n",
    "    `Untitled.ipynb`).\n",
    "3.  In the first cell type `print('Hello World!')`.\n",
    "4.  Click the `Run` button (▶) in the menu above the notebook.\n",
    "5.  You should see Python output `Hello World!` below the cell.\n",
    "\n",
    "Any time you want to run code you click on the right-triangle (▶); it’s\n",
    "in the area between the clipboard 📋 (for copying) and the ■ (for\n",
    "stopping running code).\n",
    "\n",
    "So when you run:\n",
    "\n",
    "``` python\n",
    "print('Hello World!')\n",
    "```\n",
    "\n",
    "Hopefully, the following appeare directly *below* the code:"
   ]
  },
  {
   "cell_type": "code",
   "execution_count": 1,
   "id": "75f7a105",
   "metadata": {},
   "outputs": [
    {
     "name": "stdout",
     "output_type": "stream",
     "text": [
      "Hello World!"
     ]
    }
   ],
   "source": []
  },
  {
   "cell_type": "markdown",
   "id": "a1b635a6-648e-4f19-8b31-8a8ea2bc9d8b",
   "metadata": {},
   "source": [
    "> **Tip**\n",
    ">\n",
    "> You can always click the ▶ icon above, but it will be much *faster* to\n",
    "> get into the habit of type `Ctrl`+`Enter` instead when you have placed\n",
    "> your cursor in a code cell. This is also how to turn a Markdown cell\n",
    "> back into display text.\n",
    "\n",
    "You can now close this notebook. Unless you created this notebook in the\n",
    "`work` folder, you will not be able to save it permanently. That’s fine.\n",
    "\n",
    "### 2.2 Starting the Practical Notebook\n",
    "\n",
    "*Now* from *within Jupyter Lab* you should start the Practical 2\n",
    "notebook:\n",
    "\n",
    "1.  Make sure Jupyter Lab is showing (📁`/work/`) in the left-hand menu.\n",
    "2.  Navigate to your git repo (where you saved\n",
    "    `Practical-02-Foundations_1.ipynb`).\n",
    "3.  Double-click the file and the notebook should appear on the\n",
    "    right-hand side.\n",
    "\n",
    "Now you can run code directly in your browser, so let’s try it!\n",
    "\n",
    "## 3. Python Variables\n",
    "\n",
    "> **Connections**\n",
    ">\n",
    "> This is a short recap of materials covered in this week’s video on\n",
    "> [Python: the\n",
    "> Basics](https://jreades.github.io/fsds/sessions/week2.html#lectures)\n",
    "> as well as Code Camp’s [The\n",
    "> Basics](https://jreades.github.io/code-camp/lessons/The_Basics.html)\n",
    "\n",
    "### 3.1 Variable Names\n",
    "\n",
    "> **Look closer!**\n",
    ">\n",
    "> Pay attention to the *colour* of the code, while it might be subtle (a\n",
    "> single character in a different colour), it is giving you clues as to\n",
    "> where problems might be found because it means the Python\n",
    "> ‘interpreter’ is reading what you wrote differently from how you\n",
    "> *probably* meant it…\n",
    "\n",
    "*Some* of the lines of code below are valid Python, but others *may*\n",
    "have a problem that will cause Python to generate an error. Each error\n",
    "can be fixed by changing *one* character. See if you can work out which\n",
    "ones you need to fix **before running the code**:\n",
    "\n",
    "##### 3.1.0.1 Question"
   ]
  },
  {
   "cell_type": "code",
   "execution_count": 7,
   "id": "0c2dfb48-9997-40d2-afc4-24286b2936d4",
   "metadata": {},
   "outputs": [],
   "source": [
    "Pi = 3.14159      # Valid Python\n",
    "pi = 3.14159      # ??\n",
    "pi = 3.14159*3   # ??\n",
    "pi_2 = 3.14159**2 # ??\n",
    "pi2 = 3.14159**2 # ??\n",
    "myradius = 5     # ??\n",
    "My_Radius = 5     # ??\n",
    "class_2 = 5         # ??"
   ]
  },
  {
   "cell_type": "markdown",
   "id": "280c01c3-a1eb-4bf3-84f0-cbd4de293b53",
   "metadata": {},
   "source": [
    "### 3.2 Variable Types\n",
    "\n",
    "**Before running the code** below, work out what the output will be for\n",
    "*each* of the `print` commands below when the code is executed. Write\n",
    "them as comments on the same line as the code (after the `#`, see\n",
    "example).\n",
    "\n",
    "##### 3.2.0.1 Question"
   ]
  },
  {
   "cell_type": "code",
   "execution_count": 8,
   "id": "00c3c8f7-b61f-46f8-9736-75b9110eb6d1",
   "metadata": {},
   "outputs": [
    {
     "name": "stdout",
     "output_type": "stream",
     "text": [
      "4\n",
      "22\n",
      "22\n",
      "16\n",
      "0.5\n",
      "<class 'str'>\n",
      "<class 'int'>\n",
      "<class 'int'>\n",
      "<class 'float'>\n"
     ]
    }
   ],
   "source": [
    "x = '2'\n",
    "y = z = 2\n",
    "\n",
    "print(y * z)    # 4\n",
    "print(x * y)    # ??\n",
    "print(x + x)    # ??\n",
    "print((y+z)**z) # ??\n",
    "print(y/(y+z))  # ??\n",
    "\n",
    "print( type(x * y) )    # ??\n",
    "print( type(y * z) )    # ??\n",
    "print( type((y+z)**z) ) # ??\n",
    "print( type(y/(y+z)) )  # ??"
   ]
  },
  {
   "cell_type": "markdown",
   "id": "4009e3ee-b2d1-44e8-bfc1-4cb8bca22d7f",
   "metadata": {},
   "source": [
    "### 3.3 Assignment\n",
    "\n",
    "**Before running the code**, work out what the values of `x`, `y` and\n",
    "`z` will be after every line of code in the block has been executed.\n",
    "\n",
    "##### 3.3.0.1 Question"
   ]
  },
  {
   "cell_type": "code",
   "execution_count": 10,
   "id": "6d1e7a34-cf9a-48d6-9cc0-e8359ed7b55c",
   "metadata": {},
   "outputs": [
    {
     "name": "stdout",
     "output_type": "stream",
     "text": [
      "22\n",
      "22\n",
      "32\n"
     ]
    }
   ],
   "source": [
    "x = 12\n",
    "y = 10\n",
    "\n",
    "z = x + y # ??\n",
    "x = x + y # ??\n",
    "y = z + y # ??\n",
    "\n",
    "print(z)\n",
    "print(x)\n",
    "print(y)\n",
    "# print(x)\n",
    "# ??\n",
    "# ??"
   ]
  },
  {
   "cell_type": "markdown",
   "id": "c1837f52-ea3b-4533-ba18-65eb1239d081",
   "metadata": {},
   "source": [
    "Once you have worked out what you think `x`, `y` and `z` are, add\n",
    "`print(...)` statements to the code above to check your answers!\n",
    "\n",
    "Make sure you understand the results you find. **Ask someone if you need\n",
    "help to understand.**\n",
    "\n",
    "### 3.4 Operators & Precedence\n",
    "\n",
    "**Before running the code**, work out what the values of `x`, `y` and\n",
    "`z` will be after every line of code in the block has been executed.\n",
    "Feel free to use a calculator.\n",
    "\n",
    "> **Tip**\n",
    ">\n",
    "> This question is about what operations (i.e. multiplication, division,\n",
    "> powers, etc.) are done *first* based on the type of operation and the\n",
    "> presence of parentheses… it’s the same as it would be for a maths\n",
    "> problem!\n",
    "\n",
    "##### 3.4.0.1 Question"
   ]
  },
  {
   "cell_type": "code",
   "execution_count": 11,
   "id": "64f3bc0c-be65-4959-a8fb-fefd8b24e5c5",
   "metadata": {},
   "outputs": [
    {
     "name": "stdout",
     "output_type": "stream",
     "text": [
      "2.5\n",
      "2.25\n",
      "2.5\n"
     ]
    }
   ],
   "source": [
    "x = 1 + (2 * 3) / 4\n",
    "y = (1 + 2) * (3 / 4)\n",
    "z = 1 + 2 * (3 / 4)\n",
    "\n",
    "print(x) # x is \n",
    "print(y) # y is \n",
    "print(z) # z is "
   ]
  },
  {
   "cell_type": "markdown",
   "id": "15ea76fa-e548-4229-9eff-73341107550f",
   "metadata": {},
   "source": [
    "Once you have calculated what you think `x`, `y` and `z` are, run the\n",
    "code to check.\n",
    "\n",
    "### 3.5 Test Your Operator Knowledge\n",
    "\n",
    "Now let’s look at some of the stranger operators. Many of these can be\n",
    "very useful in more complex code but can seem a little pointless now.\n",
    "\n",
    "**Work out what operator should replace the `??`** in each of the lines\n",
    "of code below to produce the output I’ve shown in the comments. I’ve\n",
    "mixed in ones you have seen above with ones that we’ve not seen before.\n",
    "\n",
    "##### 3.5.0.1 Question"
   ]
  },
  {
   "cell_type": "code",
   "execution_count": 12,
   "id": "c77f4125-7007-487e-b00b-293b052b0fe0",
   "metadata": {},
   "outputs": [
    {
     "name": "stdout",
     "output_type": "stream",
     "text": [
      "1\n",
      "13\n",
      "False\n",
      "1000\n",
      "7\n",
      "3\n"
     ]
    }
   ],
   "source": [
    "x = 10\n",
    "y = 3\n",
    "\n",
    "print( x % y ) # 1\n",
    "print( x + y ) # 13\n",
    "print( x < y ) # False\n",
    "print( x ** y ) # 1000\n",
    "print( x - y ) # 7\n",
    "print( x // y ) # 3"
   ]
  },
  {
   "cell_type": "markdown",
   "id": "e184e6b3-e41d-4faa-ab0c-85f6fae64408",
   "metadata": {},
   "source": [
    "### 3.6 Applying What We’ve Learned\n",
    "\n",
    "Now we are going to take what we’ve learned and apply it in a more\n",
    "‘abstract’ way: how do we translate some well-known mathematical\n",
    "formulae *into code*? In particular, I’m interested in the formula for\n",
    "the volume of a sphere (and this gives me a chance to show that\n",
    "Notebooks can show formulae as well!):\n",
    "\n",
    "$$\n",
    "V = \\frac{4}{3}\\pi r^{3}\n",
    "$$\n",
    "\n",
    "#### 3.6.1 Calculate the Volume of a Sphere\n",
    "\n",
    "So, given a sphere with a **diameter** of 12cm, calculate its volume:\n",
    "\n",
    "> **Tip**\n",
    ">\n",
    "> I would strongly advise you to Google: `python constant pi` and look\n",
    "> for code that will save you having to write down the value of $\\pi$.\n",
    "\n",
    "##### 3.6.1.1 Question"
   ]
  },
  {
   "cell_type": "code",
   "execution_count": 15,
   "id": "04a4c500-d8a5-43ec-82c9-1a2ec89c3707",
   "metadata": {},
   "outputs": [
    {
     "name": "stdout",
     "output_type": "stream",
     "text": [
      "904.779 cm3\n"
     ]
    }
   ],
   "source": [
    "from math import pi\n",
    "v = (4/3)*pi*((12/2)**3)\n",
    "print(f\"{v:0.3f} cm3\")"
   ]
  },
  {
   "cell_type": "code",
   "execution_count": null,
   "id": "741274dc-2162-4795-bd26-6c9358091449",
   "metadata": {},
   "outputs": [],
   "source": [
    "I get an answer of 904.779cm$^3$.\n",
    "\n",
    "#### 3.6.2 Calculate the Radius of a Sphere\n",
    "\n",
    "Now, given a sphere of volume 14,137cm$^3$ calculate its radius as a\n",
    "**whole number**. The formula for this can be worked out as:\n",
    "\n",
    "If you can’t remember how to rearrange formulae this would be a good\n",
    "skill to refresh!\n",
    "\n",
    "> **Tip**\n",
    ">\n",
    "> There are three ways to get a “whole number” from a float:\n",
    ">\n",
    "> 1.  When you’re starting out, the easiest is to change the variable’s\n",
    ">     `type`\n",
    "> 2.  The next step up is to make use of Google to find out if there are ways of *rounding* to the nearest integer\n",
    "> 3.  The third step is to change what’s visible to the user without\n",
    ">     altering the actual number\n",
    "\n",
    "I get an answer of either 14 or 15… can you work out why?\n",
    "\n",
    "##### 3.6.2.1 Question"
   ]
  },
  {
   "cell_type": "code",
   "execution_count": 16,
   "id": "fc4b170c-037d-46e5-a7b7-4a3ade57e7ed",
   "metadata": {},
   "outputs": [
    {
     "name": "stdout",
     "output_type": "stream",
     "text": [
      "15\n"
     ]
    }
   ],
   "source": [
    "from math import pi\n",
    "v = 14137\n",
    "r = (((3/4)/pi)*v)**(1/3)\n",
    "print(round(r))"
   ]
  },
  {
   "cell_type": "markdown",
   "id": "07ce075f-1a35-48ae-849e-7d073acb1d8f",
   "metadata": {},
   "source": [
    "## 4. Python Conditions\n",
    "\n",
    "> **Connections**\n",
    ">\n",
    "> This is a short recap of material covered in Code Camp’s [Truth &\n",
    "> Conditions](https://jreades.github.io/code-camp/lessons/Boolean_Logic.html)\n",
    "> and, to some extent, the\n",
    "> [Iteration](https://jreades.github.io/fsds/sessions/week2.html#lectures)\n",
    "> lecture.\n",
    "\n",
    "### 4.1 Working with Conditions\n",
    "\n",
    "Use **if, elif, and else** so that you get the following output:\n",
    "\n",
    "1.  When `hours` is 10 or more, then the code prints\n",
    "    `At least 10 hours worked!`\n",
    "2.  When `hours` is exactly 2, then the code prints\n",
    "    `Exactly 2 hours worked.`  \n",
    "3.  When `hours` is 9 or less *but not 2*, then the code prints\n",
    "    `Less than 10 hours worked!`\n",
    "\n",
    "> **Hint**\n",
    ">\n",
    "> You will *also* need to think about the order in which these\n",
    "> conditions are tested.\n",
    "\n",
    "##### 4.1.0.1 Question"
   ]
  },
  {
   "cell_type": "code",
   "execution_count": 2,
   "id": "50584925-a3c8-42eb-8d61-4c8cad3ab196",
   "metadata": {},
   "outputs": [
    {
     "name": "stdout",
     "output_type": "stream",
     "text": [
      "Exactly 2 hours worked\n"
     ]
    }
   ],
   "source": [
    "hours = 2\n",
    "\n",
    "if hours >=10:\n",
    "    print(\"At least 10 hours worked\")\n",
    "elif hours ==2:\n",
    "    print(\"Exactly 2 hours worked\")\n",
    "else:\n",
    "    print(\"less than 10 hours worked\")"
   ]
  },
  {
   "cell_type": "markdown",
   "id": "a39c068f-4076-466e-92f9-e1f0a057dc0d",
   "metadata": {},
   "source": [
    "### 4.2 Flow Control\n",
    "\n",
    "Using the flow chart shown in the image below as a model, write the code\n",
    "to make this condition work. You will need to complete the code such\n",
    "that it produces the following: 1. When `a = 2` and `b = 2` four lines\n",
    "of output will be written 2. When `a = 1` and `b = 2` one line of output\n",
    "will be written\n",
    "\n",
    "![](https://kingsgeocomputation.files.wordpress.com/2016/09/geocompweek2_task3_3.jpg)\n",
    "\n",
    "##### 4.2.0.1 Question"
   ]
  },
  {
   "cell_type": "markdown",
   "id": "57809cf5-7592-4f8f-a263-01617350940a",
   "metadata": {},
   "source": [
    "## 5. Python Logic\n",
    "\n",
    "> **Connections**\n",
    ">\n",
    "> This is a short recap of Code Camp’s [Boolean\n",
    "> Logic](https://jreades.github.io/code-camp/lessons/Boolean_Logic.html)\n",
    "> session and the [Pthon: the\n",
    "> Basics](https://jreades.github.io/fsds/sessions/week2.html#lectures)\n",
    "> lecture.\n",
    "\n",
    "### 5.1 It’s All Quite Logical…\n",
    "\n",
    "Before adding a value for `x` and running the code below, try to answer\n",
    "the following questions:\n",
    "\n",
    "##### 5.1.0.1 Question\n",
    "\n",
    "1.  What names are name(s) are printed when `x = 5`?\n",
    "2.  What value(s) can `x` be when the names `Joe` and `Aled` are\n",
    "    printed?\n",
    "3.  What name(s) are printed when `x = -1`?  \n",
    "4.  Is there any value for which all three names will be printed?"
   ]
  },
  {
   "cell_type": "code",
   "execution_count": null,
   "id": "42919fff-7fa8-4287-a738-c6a6d0c8e2af",
   "metadata": {},
   "outputs": [],
   "source": [
    "x = ??\n",
    "\n",
    "if x > 0 and x < 5:\n",
    "    print(\"Joe\")\n",
    "\n",
    "if x > 0 or x < 5:\n",
    "    print(\"Aled\")\n",
    "\n",
    "if not(x > 0):\n",
    "    print(\"Sarah\")"
   ]
  },
  {
   "cell_type": "code",
   "execution_count": 6,
   "id": "17b7897c-fd9a-4f42-a0db-13959bdcc447",
   "metadata": {},
   "outputs": [
    {
     "name": "stdout",
     "output_type": "stream",
     "text": [
      "after condition\n"
     ]
    }
   ],
   "source": [
    "a = 1\n",
    "b = 2\n",
    "\n",
    "# <your code here>\n",
    "x=a\n",
    "if x==b:\n",
    "  print(\"inside1\")\n",
    "  print(\"inside2\")\n",
    "  print(\"inside\")\n",
    "print(\"after condition\")"
   ]
  },
  {
   "cell_type": "markdown",
   "id": "d468820e-735c-42a3-b810-47e3cff4f85b",
   "metadata": {},
   "source": [
    "### 5.2 Logic (Cont’d)\n",
    "\n",
    "Study the flow chart below.\n",
    "\n",
    "![](https://kingsgeocomputation.files.wordpress.com/2016/09/geocompweek2_task3_5.jpg)\n",
    "\n",
    "> **Tip**\n",
    ">\n",
    "> This will require you to combine logic with one of the operators that\n",
    "> we saw earlier. Also note the *new* iterator that we’ve got here:\n",
    "> `range(<start>, <stop>)` to create a `range` of numbers between two\n",
    "> other numbers.\n",
    "\n",
    "In the cell below, use the for loop *already set up* to as a starting\n",
    "point for implementing the flow chart shown above for values of `x`\n",
    "between 0 and 9.\n",
    "\n",
    "##### 5.2.0.1 Question"
   ]
  },
  {
   "cell_type": "code",
   "execution_count": 11,
   "id": "deca6fc4-a9cf-4eae-91ba-162ecec72063",
   "metadata": {},
   "outputs": [
    {
     "name": "stdout",
     "output_type": "stream",
     "text": [
      "0\n",
      "x is even\n",
      "0\n",
      "1\n",
      "x is odd\n",
      "1\n",
      "2\n",
      "x is even\n",
      "2\n",
      "3\n",
      "x is odd\n",
      "3\n",
      "4\n",
      "x is even\n",
      "4\n",
      "5\n",
      "x is odd\n",
      "5\n",
      "6\n",
      "x is even\n",
      "6\n",
      "7\n",
      "x is odd\n",
      "7\n",
      "8\n",
      "x is even\n",
      "8\n"
     ]
    }
   ],
   "source": [
    "for x in range(0,9):\n",
    "    #... do something...\n",
    " print (x)\n",
    " if x%2==0:\n",
    "    print(\"x is even\")\n",
    " else:\n",
    "    print(\"x is odd\")\n",
    " print (x)"
   ]
  },
  {
   "cell_type": "markdown",
   "id": "3e47b876-15c0-4bbf-bb50-57d4ae04cefc",
   "metadata": {},
   "source": [
    "### 5.3 ‘Nested’ Conditionals\n",
    "\n",
    "Conditional statements can be nested within one another. That is, Python\n",
    "evaluates the first, or ‘outer’, condition and can then evaluate\n",
    "secondary, or ‘inner’, conditions. The code below shows an example of\n",
    "this.\n",
    "\n",
    "##### 5.3.0.1 Question"
   ]
  },
  {
   "cell_type": "code",
   "execution_count": 12,
   "id": "90ca1148-b441-4eb7-aff9-514e916a1811",
   "metadata": {},
   "outputs": [
    {
     "name": "stdout",
     "output_type": "stream",
     "text": [
      "x is not equal to y\n",
      "x is greater than y\n"
     ]
    }
   ],
   "source": [
    "x = 5\n",
    "y = 4\n",
    "\n",
    "if x != y:                                 #line 1\n",
    "    print(\"x is not equal to y\")\n",
    "    \n",
    "    if(x > y):                             #line 4\n",
    "        print(\"x is greater than y\")\n",
    "    \n",
    "    else:                                  #line 7\n",
    "        print(\"x is less than y\")\n",
    "\n",
    "else:\n",
    "    print(\"<insert conclusion here>\")"
   ]
  },
  {
   "cell_type": "markdown",
   "id": "5fc2e213-eef0-44ce-81b8-66958fb28a6a",
   "metadata": {},
   "source": [
    "Note how the indentation makes it easier to work out which ‘level’\n",
    "(outer or inner condition) the code is operating on. In the code above,\n",
    "lines 4 and 7 are at the same indentation meaning that *both will be\n",
    "skipped* if the initial condition (on line 1) is `False`.\n",
    "\n",
    "To check you understand how the code above works:\n",
    "\n",
    "1.  Change `<insert conclusion here>` to a string that explains the\n",
    "    condition of `x` and `y`\n",
    "2.  For `x = 2` and `y = 3`, type what line(s) will be output here: …\n",
    "\n",
    "Great! You should now have a pretty good understanding of how\n",
    "conditional and logical operators work. This understanding will be handy\n",
    "in future as we work through other computational concepts.\n",
    "\n",
    "## 6. Python Lists\n",
    "\n",
    "> **Connections**\n",
    ">\n",
    "> This is a short recap of material covered in the\n",
    "> [Lists](https://jreades.github.io/fsds/sessions/week2.html#lectures)\n",
    "> lecture and Code Camp’s\n",
    "> [Lists](https://jreades.github.io/code-camp/lessons/Lists.html)\n",
    "> session.\n",
    "\n",
    "### 6.1 Who’s in the List?\n",
    "\n",
    "Here we are looking to interact with lists in a straightforward way that\n",
    "will help you to understand accessing them using indexes and slices, and\n",
    "searching.\n",
    "\n",
    "##### 6.1.0.1 Question"
   ]
  },
  {
   "cell_type": "code",
   "execution_count": 23,
   "id": "d0a2f94e-5c2c-42fa-8719-f43da6c546e5",
   "metadata": {},
   "outputs": [
    {
     "name": "stdout",
     "output_type": "stream",
     "text": [
      "London\n",
      "Tokyo\n",
      "['Beijing', 'Tokyo']\n",
      "['London', 'Beijing', 'Tokyo', 'Delhi']\n",
      "['London', 'Beijing']\n",
      "0\n"
     ]
    }
   ],
   "source": [
    "cities = ['New York', 'London', 'Beijing', 'Tokyo', 'Delhi']\n",
    "\n",
    "# Print out London from cities:\n",
    "print(cities[1])\n",
    "\n",
    "# Print out Tokyo using *negative* indexing:\n",
    "print(cities[-2])\n",
    "\n",
    "# Print out Beijing *and* Tokyo using a list slice\n",
    "print(cities[2:4])\n",
    "\n",
    "# Print out London to Delhi using a slice\n",
    "print(cities[1:]) # You could also do cities[1:5] but this way is neater\n",
    "\n",
    "# Combine positive and negative indexing to print out London, Beijing and Tokyo using a list slice\n",
    "print(cities[1:-2])\n",
    "\n",
    "# Print out the position of New York in the list by searching for it (i.e. you can't just type 0)\n",
    "print(cities.index(\"New York\"))"
   ]
  },
  {
   "cell_type": "markdown",
   "id": "d2d4bba5-43c4-45c6-b23c-2ab175d38026",
   "metadata": {},
   "source": [
    "### 6.2 Manipulating Lists\n",
    "\n",
    "Let’s break a few things…\n",
    "\n",
    "#### 6.2.1 Create an IndexError\n",
    "\n",
    "##### 6.2.1.1 Question"
   ]
  },
  {
   "cell_type": "code",
   "execution_count": 24,
   "id": "26811404-0e2f-4387-91fc-3c4dd1e4dfc3",
   "metadata": {},
   "outputs": [
    {
     "ename": "IndexError",
     "evalue": "list index out of range",
     "output_type": "error",
     "traceback": [
      "\u001b[0;31m---------------------------------------------------------------------------\u001b[0m",
      "\u001b[0;31mIndexError\u001b[0m                                Traceback (most recent call last)",
      "Cell \u001b[0;32mIn[24], line 2\u001b[0m\n\u001b[1;32m      1\u001b[0m \u001b[38;5;66;03m# Cause an 'IndexError: list index out of range' errr\u001b[39;00m\n\u001b[0;32m----> 2\u001b[0m \u001b[38;5;28mprint\u001b[39m(\u001b[43mcities\u001b[49m\u001b[43m[\u001b[49m\u001b[38;5;241;43m200\u001b[39;49m\u001b[43m]\u001b[49m)\n",
      "\u001b[0;31mIndexError\u001b[0m: list index out of range"
     ]
    }
   ],
   "source": [
    "# Cause an 'IndexError: list index out of range' errr\n",
    "print(cities[200])"
   ]
  },
  {
   "cell_type": "markdown",
   "id": "3ca510ac-76a9-4bdf-903b-545a29163728",
   "metadata": {},
   "source": [
    "#### 6.2.2 Create a ValueError\n",
    "\n",
    "##### 6.2.2.1 Question"
   ]
  },
  {
   "cell_type": "code",
   "execution_count": 26,
   "id": "62e85306-7d51-4754-8fb6-01a61c98f084",
   "metadata": {},
   "outputs": [
    {
     "ename": "ValueError",
     "evalue": "'Toronto' is not in list",
     "output_type": "error",
     "traceback": [
      "\u001b[0;31m---------------------------------------------------------------------------\u001b[0m",
      "\u001b[0;31mValueError\u001b[0m                                Traceback (most recent call last)",
      "Cell \u001b[0;32mIn[26], line 2\u001b[0m\n\u001b[1;32m      1\u001b[0m \u001b[38;5;66;03m# Cause a ValueError using the city of Toronto\u001b[39;00m\n\u001b[0;32m----> 2\u001b[0m \u001b[38;5;28mprint\u001b[39m(\u001b[43mcities\u001b[49m\u001b[38;5;241;43m.\u001b[39;49m\u001b[43mindex\u001b[49m\u001b[43m(\u001b[49m\u001b[38;5;124;43m'\u001b[39;49m\u001b[38;5;124;43mToronto\u001b[39;49m\u001b[38;5;124;43m'\u001b[39;49m\u001b[43m)\u001b[49m)\n",
      "\u001b[0;31mValueError\u001b[0m: 'Toronto' is not in list"
     ]
    }
   ],
   "source": [
    "# Cause a ValueError using the city of Toronto\n",
    "print(cities.index('Toronto'))"
   ]
  },
  {
   "cell_type": "code",
   "execution_count": 44,
   "id": "a5ae6add-d008-4d3a-a36f-0e7b16ee871a",
   "metadata": {},
   "outputs": [
    {
     "name": "stdout",
     "output_type": "stream",
     "text": [
      "['Tokyo', 'New York', 'London', 'Delhi', 'Beijing']\n"
     ]
    }
   ],
   "source": [
    "#### 6.2.3 Sort the List\n",
    "\n",
    "####Sort the list *in place* in reverse alphabetical order (i.e. z…a) and\n",
    "\n",
    "\n",
    "\n",
    "cities = ['New York', 'London', 'Beijing', 'Tokyo', 'Delhi']\n",
    "cities.sort(reverse=True)\n",
    "print(cities)\n",
    "\n",
    "##### 6.2.3.1 Question"
   ]
  },
  {
   "cell_type": "code",
   "execution_count": null,
   "id": "f36489af-a258-4402-9d1a-acd3f19e736d",
   "metadata": {},
   "outputs": [],
   "source": [
    "??\n",
    "print(cities)"
   ]
  },
  {
   "cell_type": "code",
   "execution_count": 50,
   "id": "b0c28887-9c00-40cc-a0be-bf8b6d325801",
   "metadata": {},
   "outputs": [
    {
     "ename": "SyntaxError",
     "evalue": "invalid syntax (2358435676.py, line 8)",
     "output_type": "error",
     "traceback": [
      "\u001b[0;36m  Cell \u001b[0;32mIn[50], line 8\u001b[0;36m\u001b[0m\n\u001b[0;31m    list.\u001b[0m\n\u001b[0m         ^\u001b[0m\n\u001b[0;31mSyntaxError\u001b[0m\u001b[0;31m:\u001b[0m invalid syntax\n"
     ]
    }
   ],
   "source": [
    "##The output from this should be: <code>\\[‘Tokyo’, ‘New York’, ‘London’,\n",
    "\n",
    "### 6.3 Adding/Removing Values\n",
    "\n",
    "#### 6.3.1 Inserting into a List\n",
    "\n",
    "##Add the city of Toronto to the list *after* New York in the *sorted*\n",
    "list.\n",
    "cities = ['New York', 'London', 'Beijing', 'Tokyo', 'Delhi']\n",
    "cities.insert(2,'Toronto')\n",
    "\n",
    "##### 6.3.1.1 Question"
   ]
  },
  {
   "cell_type": "code",
   "execution_count": 48,
   "id": "61e02ca8-4c69-4fc7-9c63-81b359f1f2d5",
   "metadata": {},
   "outputs": [
    {
     "name": "stdout",
     "output_type": "stream",
     "text": [
      "None\n"
     ]
    }
   ],
   "source": [
    "# Just in case you make a mistake...\n",
    "cities=['Tokyo', 'New York', 'London', 'Delhi', 'Beijing']\n",
    "print(cities.sort(reverse=True))"
   ]
  },
  {
   "cell_type": "code",
   "execution_count": 40,
   "id": "f79716a8-efcd-4d6e-b90f-d1c1d0f85c80",
   "metadata": {},
   "outputs": [
    {
     "ename": "NameError",
     "evalue": "name 'p' is not defined",
     "output_type": "error",
     "traceback": [
      "\u001b[0;31m---------------------------------------------------------------------------\u001b[0m",
      "\u001b[0;31mNameError\u001b[0m                                 Traceback (most recent call last)",
      "Cell \u001b[0;32mIn[40], line 2\u001b[0m\n\u001b[1;32m      1\u001b[0m get_ipython()\u001b[38;5;241m.\u001b[39mshow_usage()\n\u001b[0;32m----> 2\u001b[0m \u001b[38;5;28mprint\u001b[39m(\u001b[43mp\u001b[49m)\n\u001b[1;32m      3\u001b[0m \u001b[38;5;28mprint\u001b[39m(cities)\n",
      "\u001b[0;31mNameError\u001b[0m: name 'p' is not defined"
     ]
    }
   ],
   "source": [
    "??\n",
    "print(p)\n",
    "print(cities)"
   ]
  },
  {
   "cell_type": "markdown",
   "id": "cda277a1-719a-4321-a2e7-47efd60303db",
   "metadata": {},
   "source": [
    "The output should be:\n",
    "\n",
    "-   <code>New York</code>\n",
    "-   <code>\\[‘Tokyo’, ‘Toronto’, ‘London’, ‘Delhi’, ‘Beijing’\\]</code>\n",
    "\n",
    "#### 6.3.3 Checking Lists\n",
    "\n",
    "Finally, how can you check if the city of Moscow is in the list and let\n",
    "the user know if it is or is not?\n",
    "\n",
    "##### 6.3.3.1 Question"
   ]
  },
  {
   "cell_type": "code",
   "execution_count": null,
   "id": "a567837b-88d5-4bb4-ba2c-aa6b98024b8a",
   "metadata": {},
   "outputs": [],
   "source": [
    "if ??\n",
    "    ??\n",
    "else:\n",
    "    ??"
   ]
  },
  {
   "cell_type": "markdown",
   "id": "65c00f6e-2381-4bd5-9bd5-16106e5ddc3b",
   "metadata": {},
   "source": [
    "### 6.4 You’re Done!\n",
    "\n",
    "This is quite a lot to get through. If you’ve managed it in under 2\n",
    "hours then *congratulations*! Either you must have paid a lot of\n",
    "attention when doing Code Camp, or you might want to check in with us as\n",
    "to whether you should really be doing this module…\n",
    "\n",
    "#### 6.4.1 No Wait, One More Thing…\n",
    "\n",
    "You now want to add/commit/push your completed notebook to your GitHub\n",
    "reposistory. Using the Terminal (macOS or from with Jupyter/Docker) or\n",
    "Git Bash (Windows) you need to:\n",
    "\n",
    "1.  Navigate to your repository\n",
    "    (e.g.`$HOME/Documents/CASA/<your repository>`).\n",
    "2.  Check the status of your notebooks using `git status` (you should\n",
    "    see that `Practical-02-Foundations_1.ipynb has been modified`).\n",
    "3.  Add the *changes* to Git using\n",
    "    `git add  Practical-02-Foundations_1.ipynb`\n",
    "4.  Commit this changed notebook with a message using\n",
    "    `git commit -m \"<your message here...>\"`\n",
    "5.  Push this change to GitHub using: `git push`\n",
    "\n",
    "You should now be able to visit your repository on\n",
    "[GitHub](https://github.com/) and see that your changes are now stored\n",
    "there as well!\n",
    "\n",
    "> **Note**\n",
    ">\n",
    "> If you are using Docker then you can also save your work as a PDF\n",
    "> using: `File` \\> `Export Notebook As...` (this does not work for\n",
    "> notebooks with lots of complex formatting).\n",
    "\n",
    "##### 6.4.1.1 License\n",
    "\n",
    "These teaching materials are licensed under a mix of the MIT and CC-BY\n",
    "licenses…"
   ]
  }
 ],
 "metadata": {
  "kernelspec": {
   "display_name": "Python (base)",
   "language": "python",
   "name": "base"
  },
  "language_info": {
   "codemirror_mode": {
    "name": "ipython",
    "version": 3
   },
   "file_extension": ".py",
   "mimetype": "text/x-python",
   "name": "python",
   "nbconvert_exporter": "python",
   "pygments_lexer": "ipython3",
   "version": "3.11.9"
  }
 },
 "nbformat": 4,
 "nbformat_minor": 5
}
