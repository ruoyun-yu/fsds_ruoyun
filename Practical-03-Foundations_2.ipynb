{
  "cells": [
    {
      "cell_type": "markdown",
      "metadata": {},
      "source": [
        "## Practical 3: Foundations (Part 2)\n",
        "\n",
        "Getting to grips with Dictionaries, LOLs and DOLs\n",
        "\n",
        "In this notebook we are exploring basic (in the sense of fundamental)\n",
        "data structures so that you understand both how to manage more complex\n",
        "types of data and are prepared for what we will encounter when we start\n",
        "using `pandas` to perform data analysis. To achieve that, you will need\n",
        "to be ‘fluent’ in “nested” lists and dictionaries; we will focus\n",
        "primarily on lists-of-lists and dictionaries-of-lists, but note that\n",
        "file formats like JSON can be understood as\n",
        "dictionaries-of-dictionaries-of-lists-of-… so this is just a *taster* of\n",
        "real-world data structures.\n",
        "\n",
        "> **Tip**\n",
        ">\n",
        "> You should download this notebook and then save it to your own copy of\n",
        "> the repository. Follow the process used *last* week\n",
        "> (i.e. `git add ...`, `git commit -m \"...\"`, `git push`) right away and\n",
        "> then do this again at the end of the class and you’ll have a record of\n",
        "> everything you did.\n",
        "\n",
        "## 1. From Lists to Data (Little Steps)\n",
        "\n",
        "We’re going to start off using lists and dictionaries that *we* define\n",
        "right at the start of the ‘program’, but the *real* value of these data\n",
        "structures comes when we build a list or dictionary *from* data such as\n",
        "a file or a web page… and that’s what we’re going to do below!\n",
        "\n",
        "First, here’s a reminder of some useful methods (*i.e.* functions) that\n",
        "apply to lists which we covered in the\n",
        "[lecture](https://jreades.github.io/fsds/sessions/week2.html#lectures)\n",
        "and\n",
        "[practical](https://jreades.github.io/fsds/sessions/week2.html#practical)\n",
        "in Week 2:\n",
        "\n",
        "| Method | Action |\n",
        "|--------------------|----------------------------------------------------|\n",
        "| `list.count(x)` | Return the number of times x appears in the list |\n",
        "| `list.insert(i, x)` | Insert value `x` at a given position `i` |\n",
        "| `list.pop([i])` | Remove and return the value at position `i` (`i` is optional) |\n",
        "| `list.remove(x)` | Remove the first element from the list whose value is `x` |\n",
        "| `list.reverse()` | Reverse the elements of the list in place |\n",
        "| `list.sort()` | Sort the items of the list in place |\n",
        "| `list.index(x)` | Find the first occurence of `x` in the list |\n",
        "| `list[x:y]` | Slice the list from index `x` to `y-1` |\n",
        "\n",
        "This should all be revision… because it’s how we finished things up\n",
        "*last week*. But I want to go over it *briefly* again because we’re\n",
        "going to build on it this week.\n",
        "\n",
        "> **Hint**\n",
        ">\n",
        "> As before, `??` will highlight where one or more bit of code are\n",
        "> missing and need to be filled in…\n",
        "\n",
        "### 1.1 List Refresher\n",
        "\n",
        "> **Difficulty: Low.**\n",
        "\n",
        "To complete these tasks, all of the methods that you need are listed\n",
        "above, so this is about testing yourself on your understanding *both* of\n",
        "how to read the help *and* how to index elements in a list.\n",
        "\n",
        "The next line creates a list of city names (each element is a string):"
      ],
      "id": "a4fc0d36-da57-41a7-884f-8e17cc2a856c"
    },
    {
      "cell_type": "code",
      "execution_count": 1,
      "metadata": {},
      "outputs": [],
      "source": [
        "cities = [\"Bristol\", \"London\", \"Manchester\", \"Edinburgh\", \"Belfast\", \"York\"]"
      ],
      "id": "84fb0ac6"
    },
    {
      "cell_type": "markdown",
      "metadata": {},
      "source": [
        "#### 1.1.1 List Arithmetic\n",
        "\n",
        "Replace the `??` so that it prints `Belfast`.\n",
        "\n",
        "##### 1.1.1.1 Question"
      ],
      "id": "65dde66e-ad78-4ad1-b918-caeb2442d752"
    },
    {
      "cell_type": "code",
      "execution_count": null,
      "metadata": {},
      "outputs": [],
      "source": [
        "print(cities[?? + 2])"
      ],
      "id": "b0d6fda8-cb57-4153-a2df-67525fa9b40b"
    },
    {
      "cell_type": "markdown",
      "metadata": {},
      "source": [
        "#### 1.1.2 Negative List Arithmetic\n",
        "\n",
        "Use a **negative** index to print `Belfast`:\n",
        "\n",
        "##### 1.1.2.1 Question"
      ],
      "id": "ea52f929-c741-4d65-93fe-04dcce826e27"
    },
    {
      "cell_type": "code",
      "execution_count": null,
      "metadata": {},
      "outputs": [],
      "source": [
        "print(cities[??])"
      ],
      "id": "f0983536-c9e5-4f67-9c55-a30f01b79fe8"
    },
    {
      "cell_type": "markdown",
      "metadata": {},
      "source": [
        "#### 1.1.3 Finding a Position in a List\n",
        "\n",
        "Replace the `??` so that it prints the *index* for Manchester in the\n",
        "list.\n",
        "\n",
        "##### 1.1.3.1 Question"
      ],
      "id": "b83bac12-3415-46aa-bf00-004e7aa094da"
    },
    {
      "cell_type": "code",
      "execution_count": null,
      "metadata": {},
      "outputs": [],
      "source": [
        "print(\"The position of Manchester in the list is: \" + str( ?? ))"
      ],
      "id": "4078a3c5-f3f6-4bf5-a1e8-cb727c3542aa"
    },
    {
      "cell_type": "markdown",
      "metadata": {},
      "source": [
        "### 1.2 Looking Across Lists\n",
        "\n",
        "> **Connections**\n",
        ">\n",
        "> This section draws on the\n",
        "> [LOLs](https://jreades.github.io/fsds/sessions/week3.html#lectures)\n",
        "> lecture and you will also find Code Camp’s\n",
        "> [Loops](https://jreades.github.io/code-camp/lessons/Loops.html)\n",
        "> session useful here.\n",
        "\n",
        "> **Difficulty: Medium.**\n",
        "\n",
        "Notice that the list of `temperatures` below is the same length as the\n",
        "list of `cities`, that’s because these are (roughly) the average\n",
        "temperatures for each city."
      ],
      "id": "1584dd1f-1f4e-4cd0-88c6-3d08cea20614"
    },
    {
      "cell_type": "code",
      "execution_count": 5,
      "metadata": {},
      "outputs": [],
      "source": [
        "cities = [\"Bristol\", \"London\", \"Manchester\", \"Edinburgh\", \"Belfast\", \"York\"]\n",
        "temperatures = [15.6, 16.5, 13.4, 14.0, 15.2, 14.8]"
      ],
      "id": "8cb50326"
    },
    {
      "cell_type": "markdown",
      "metadata": {},
      "source": [
        "#### 1.2.1 Lateral Thinking\n",
        "\n",
        "Given what you know about `cities` and `temperatures`, how do you print:\n",
        "\n",
        "> “The average temperature in Manchester is 13.4 degrees”\n",
        "\n",
        "But you have to do this *without* doing any of the following:\n",
        "\n",
        "1.  Using a list index directly (*i.e.* `cities[2]` and\n",
        "    `temperatures[2]`) or\n",
        "2.  Hard-coding the name of the city?\n",
        "\n",
        "To put it another way, **neither** of these solutions is the answer:\n",
        "\n",
        "``` python\n",
        "print(\"The average temperature in Manchester is \" + str(temperatures[2]) + \" degrees.\")\n",
        "# ...OR...\n",
        "city=2\n",
        "print(\"The average temperature in \" + cities[city] + \" is \" + str(temperatures[city]) + \" degrees.\")\n",
        "```\n",
        "\n",
        "> **Tip**\n",
        ">\n",
        "> You will need to combine some of the ideas above and also think about\n",
        "> the fact that the list index is that we need is the same in both\n",
        "> lists… Also, remember that you’ll need to wrap a `str(...)` around\n",
        "> your temperature to make it into a string.\n",
        "\n",
        "##### 1.2.1.1 Question"
      ],
      "id": "e03c6c97-01ea-4501-96fb-7a1092224bf3"
    },
    {
      "cell_type": "code",
      "execution_count": null,
      "metadata": {},
      "outputs": [],
      "source": [
        "city=\"Manchester\" # Use this to get the solution...\n",
        "\n",
        "# This way is perfectly fine\n",
        "print(\"The average temperature in \" + ?? + \" is \" + str(??))\n",
        "\n",
        "# This way is more Python 3 and a bit easier to read\n",
        "print(f\"The average temperature in {??} is {??}\")"
      ],
      "id": "3d7d9aec-bdfb-44bd-add9-2a7fe0a1b09a"
    },
    {
      "cell_type": "markdown",
      "metadata": {},
      "source": [
        "#### 1.2.2 Double-Checking Your Solution\n",
        "\n",
        "You’ll know that you got the ‘right’ answer to the question above if you\n",
        "can copy+paste your code and change only **one** thing in order to print\n",
        "out: “The average temperature in Belfast is 15.2 degrees”\n",
        "\n",
        "##### 1.2.2.1 Question"
      ],
      "id": "5d9e7aaf-a613-4d0d-82fa-731421060e99"
    },
    {
      "cell_type": "code",
      "execution_count": null,
      "metadata": {},
      "outputs": [],
      "source": [
        "city=\"Belfast\"\n",
        "print(??)"
      ],
      "id": "126d1fc2-f0e8-4991-b35f-6c626d146193"
    },
    {
      "cell_type": "markdown",
      "metadata": {},
      "source": [
        "#### 1.2.3 Loops\n",
        "\n",
        "Now use a `for` loop over the cities to print out the average\n",
        "temperature in each city:\n",
        "\n",
        "##### 1.2.3.1 Question"
      ],
      "id": "cf02878f-2635-4fa1-892d-1026d7b89ca8"
    },
    {
      "cell_type": "code",
      "execution_count": null,
      "metadata": {},
      "outputs": [],
      "source": [
        "for c in cities:\n",
        "    ??"
      ],
      "id": "04535e37-0d1c-4958-93b2-d26bce912563"
    },
    {
      "cell_type": "markdown",
      "metadata": {},
      "source": [
        "The output should be:"
      ],
      "id": "420f398e-0cc2-450a-ae71-538228397c67"
    },
    {
      "cell_type": "code",
      "execution_count": null,
      "metadata": {},
      "outputs": [],
      "source": [
        "The average temperature in Bristol is 15.6\n",
        "The average temperature in London is 16.5\n",
        "The average temperature in Manchester is 13.4\n",
        "The average temperature in Edinburgh is 14.0\n",
        "The average temperature in Belfast is 15.2\n",
        "The average temperature in York is 14.8"
      ],
      "id": "c122da41-6676-44b1-8d30-3b77c860675e"
    },
    {
      "cell_type": "markdown",
      "metadata": {},
      "source": [
        "## 2. Dictionaries\n",
        "\n",
        "> **Connections**\n",
        ">\n",
        "> This section draws on the\n",
        "> [Dictionaries](https://jreades.github.io/fsds/sessions/week3.html#lectures)\n",
        "> lecture and Code Camp\n",
        "> [Dictonaries](https://jreades.github.io/code-camp/lessons/Dicts.html)\n",
        "> session.\n",
        "\n",
        "> **Difficulty: Low.**\n",
        "\n",
        "Remember that dictionaries (a.k.a. dicts) are like lists in that they\n",
        "are [data\n",
        "structures](https://docs.python.org/2/tutorial/datastructures.html)\n",
        "containing multiple elements. A key difference between\n",
        "[dictionaries](https://docs.python.org/2/tutorial/datastructures.html#dictionaries)\n",
        "and [lists](https://docs.python.org/2/tutorial/introduction.html#lists)\n",
        "is that while elements in lists are ordered, dicts (in most programming\n",
        "languages, though not Python) are unordered. This means that whereas for\n",
        "lists we use integers as indexes to access elements, in dictonaries we\n",
        "use ‘keys’ (which can multiple different types; strings, integers,\n",
        "etc.). Consequently, an important concept for dicts is that of key-value\n",
        "pairs.\n",
        "\n",
        "### 2.1 Creating an Atlas\n",
        "\n",
        "The code below creates an Atlas using a dictionary. The dictionary `key`\n",
        "is a city name, and the `value` is the latitude, longitude, and main\n",
        "airport code."
      ],
      "id": "ee5e6076-4c8f-42e6-a372-b7004bb1e913"
    },
    {
      "cell_type": "code",
      "execution_count": 11,
      "metadata": {},
      "outputs": [],
      "source": [
        "cities = {\n",
        "    'San Francisco': [37.77, -122.43, 'SFO'],\n",
        "    'London': [51.51, -0.08, 'LDN'],\n",
        "    'Paris': [48.86,2.29, 'PAR'],\n",
        "    'Beijing': [39.92,116.40 ,'BEI'],\n",
        "}"
      ],
      "id": "4249b83e"
    },
    {
      "cell_type": "markdown",
      "metadata": {},
      "source": [
        "#### 2.1.1 Adding to a Dict\n",
        "\n",
        "Add a record to the dictionary for Chennai ([data\n",
        "here](https://en.wikipedia.org/wiki/Chennai))\n",
        "\n",
        "##### 2.1.1.1 Question"
      ],
      "id": "11feca81-924a-45b3-8b6b-f7b4fe099793"
    },
    {
      "cell_type": "code",
      "execution_count": null,
      "metadata": {},
      "outputs": [],
      "source": [
        "??"
      ],
      "id": "9b50f616-395d-4df9-912f-8a7b27076403"
    },
    {
      "cell_type": "markdown",
      "metadata": {},
      "source": [
        "#### 2.1.2 Accessing a Dict\n",
        "\n",
        "In *one* line of code, print out the airport code for Chennai (`MAA`):\n",
        "\n",
        "##### 2.1.2.1 Question"
      ],
      "id": "f5abfbd8-7bfe-4996-8920-4ce81551706c"
    },
    {
      "cell_type": "code",
      "execution_count": null,
      "metadata": {},
      "outputs": [],
      "source": [
        "??"
      ],
      "id": "bf1e581e-6d3b-4e3d-b27a-294920675137"
    },
    {
      "cell_type": "markdown",
      "metadata": {},
      "source": [
        "### 2.2 Dealing With Errors\n",
        "\n",
        "Check you understand the difference between the following two blocks of\n",
        "code by running them."
      ],
      "id": "edae81b6-366f-4050-bb45-c7983c8b7935"
    },
    {
      "cell_type": "code",
      "execution_count": 14,
      "metadata": {},
      "outputs": [
        {
          "output_type": "stream",
          "name": "stdout",
          "text": [
            "Error found\n",
            "'Berlin'"
          ]
        }
      ],
      "source": [
        "try:\n",
        "    print(cities['Berlin'])\n",
        "except KeyError as e:\n",
        "    print(\"Error found\")\n",
        "    print(e)"
      ],
      "id": "fe69f104"
    },
    {
      "cell_type": "code",
      "execution_count": 15,
      "metadata": {},
      "outputs": [
        {
          "output_type": "stream",
          "name": "stdout",
          "text": [
            "Not Found"
          ]
        }
      ],
      "source": [
        "try:\n",
        "    print(cities.get('Berlin','Not Found'))\n",
        "except KeyError as e:\n",
        "    print(\"Error found\")\n",
        "    print(e)"
      ],
      "id": "f3d0a79d"
    },
    {
      "cell_type": "markdown",
      "metadata": {},
      "source": [
        "Notice that trying to access a non-existent element of a dict triggers a\n",
        "`KeyError`, while asking the dict to `get` the *same element* does not,\n",
        "it simply returns `None`. Can you think why, depending on the\n",
        "situtation, *either* of these might be the ‘correct’ answer?\n",
        "\n",
        "### 2.3 Thinking Data\n",
        "\n",
        "This section makes use of both the\n",
        "[Dictionaries](https://jreades.github.io/fsds/sessions/week3.html#lectures)\n",
        "lecture and the [DOLs to\n",
        "Data](https://jreades.github.io/fsds/sessions/week3.html#lectures)\n",
        "lecture.\n",
        "\n",
        "> **Tip**\n",
        ">\n",
        "> In this section you’ll need to look up (i.e. Google) and make use of a\n",
        "> few new functions that apply to dictionaries: `<dictionary>.items()`,\n",
        "> `<dictionary>.keys()`. *Remember*: if in doubt, add `print(...)`\n",
        "> statements to see what is going on!\n",
        "\n",
        "#### 2.3.1 Iterating over a Dict\n",
        "\n",
        "Adapting the code below, print out the city name and airport code for\n",
        "every city in our Atlas.\n",
        "\n",
        "##### 2.3.1.1 Question"
      ],
      "id": "1c359524-ba1f-4603-a2ef-c4fb8d485ded"
    },
    {
      "cell_type": "code",
      "execution_count": null,
      "metadata": {},
      "outputs": [],
      "source": [
        "for c in cities.keys():\n",
        "    print(??)"
      ],
      "id": "d1ebfe79-330d-4692-a8e4-89b6f01de22f"
    },
    {
      "cell_type": "markdown",
      "metadata": {},
      "source": [
        "The output should look something like this:"
      ],
      "id": "4485c262-6186-4a3b-bff2-afdb5a2ec5ba"
    },
    {
      "cell_type": "code",
      "execution_count": null,
      "metadata": {},
      "outputs": [],
      "source": [
        "San Francisco -> SFO\n",
        "London -> LDN\n",
        "Paris -> PAR\n",
        "Beijing -> BEI\n",
        "Chennai -> MAA"
      ],
      "id": "5849052e-204a-4b01-997b-6dd2f657c6df"
    },
    {
      "cell_type": "markdown",
      "metadata": {},
      "source": [
        "#### 2.3.2 More Complex Dicts\n",
        "\n",
        "How would your code need to change to produce the *same output* from\n",
        "this data structure:"
      ],
      "id": "d6fd30dc-27aa-491d-bcf3-f931ef8720d6"
    },
    {
      "cell_type": "code",
      "execution_count": 17,
      "metadata": {},
      "outputs": [],
      "source": [
        "cities = {\n",
        "    'San Francisco': {\n",
        "        'lat': 37.77, \n",
        "        'lon': -122.43,\n",
        "        'airport': 'SFO'},\n",
        "    'London': {\n",
        "        'lat': 51.51, \n",
        "        'lon': -0.08, \n",
        "        'airport': 'LDN'},\n",
        "    'Paris': {\n",
        "        'lat': 48.86,\n",
        "        'lon': 2.29, \n",
        "        'airport': 'PAR'},\n",
        "    'Beijing': {\n",
        "        'lat': 39.92,\n",
        "        'lon': 116.40,\n",
        "        'airport': 'BEI'},\n",
        "    'Chennai': { \n",
        "        'lat': 13.08, \n",
        "        'lon': 80.28, \n",
        "        'airport': 'MAA'}\n",
        "}"
      ],
      "id": "1854edb2"
    },
    {
      "cell_type": "markdown",
      "metadata": {},
      "source": [
        "##### 2.3.2.1 Question"
      ],
      "id": "9fdbe627-f3b7-45da-9bb1-e5081267624f"
    },
    {
      "cell_type": "code",
      "execution_count": null,
      "metadata": {},
      "outputs": [],
      "source": [
        "for c in cities.keys():\n",
        "    print(??)"
      ],
      "id": "c43e8b27-0bbc-4488-b9d4-27f5053e1324"
    },
    {
      "cell_type": "markdown",
      "metadata": {},
      "source": [
        "#### 2.3.3 More Dictionary Action!\n",
        "\n",
        "And how would it need to change to print out the name and latitude of\n",
        "every city?\n",
        "\n",
        "##### 2.3.3.1 Question"
      ],
      "id": "dd4b8eb4-e957-4774-933d-f78fcf169628"
    },
    {
      "cell_type": "code",
      "execution_count": null,
      "metadata": {},
      "outputs": [],
      "source": [
        "for c in cities.keys():\n",
        "    print(??)"
      ],
      "id": "527444db-cd2b-474a-acea-40f85bc6d4c3"
    },
    {
      "cell_type": "markdown",
      "metadata": {},
      "source": [
        "The output should be something like this:"
      ],
      "id": "ece8f4b9-359a-45e1-ac2e-9ef3c8c49f02"
    },
    {
      "cell_type": "code",
      "execution_count": null,
      "metadata": {},
      "outputs": [],
      "source": [
        "San Francisco is at latitude 37.77\n",
        "London is at latitude 51.51\n",
        "Paris is at latitude 48.86\n",
        "Beijing is at latitude 39.92\n",
        "Chennai is at latitude 13.08"
      ],
      "id": "07071883-def8-494e-9def-27cc43a6f3d9"
    },
    {
      "cell_type": "markdown",
      "metadata": {},
      "source": [
        "#### 2.3.4 And Another Way to Use a Dict\n",
        "\n",
        "Now produce the *same output* using this new data structure:"
      ],
      "id": "79f8a4f5-19a8-4ff8-b318-3bbe8f5afc06"
    },
    {
      "cell_type": "code",
      "execution_count": 21,
      "metadata": {},
      "outputs": [],
      "source": [
        "cities_alt = [\n",
        "    {'name':     'San Francisco',\n",
        "     'position': [37.77, -122.43],\n",
        "     'airport':  'SFO'},\n",
        "    {'name':     'London',\n",
        "     'position': [51.51, -0.08],\n",
        "     'airport':  'LDN'},\n",
        "    {'name':     'Paris',\n",
        "     'position': [48.86, 2.29],\n",
        "     'airport':  'PAR'},\n",
        "    {'name':     'Beijing',\n",
        "     'position': [39.92, 116.40],\n",
        "     'airport':  'BEI'},\n",
        "    {'name':     'Chennai', \n",
        "     'position': [13.08, 80.28],\n",
        "      'airport': 'MAA'}\n",
        "]"
      ],
      "id": "6f44ee63"
    },
    {
      "cell_type": "markdown",
      "metadata": {},
      "source": [
        "##### 2.3.4.1 Question"
      ],
      "id": "8e70cea9-2023-4230-83f1-b752ea540777"
    },
    {
      "cell_type": "code",
      "execution_count": null,
      "metadata": {},
      "outputs": [],
      "source": [
        "for c in cities_alt:\n",
        "    print(??)"
      ],
      "id": "0edb9beb-4695-480a-be71-acdc349f8acf"
    },
    {
      "cell_type": "markdown",
      "metadata": {},
      "source": [
        "The output should be something like this:"
      ],
      "id": "1ab371f9-198d-432d-aceb-eec0c6347ceb"
    },
    {
      "cell_type": "code",
      "execution_count": null,
      "metadata": {},
      "outputs": [],
      "source": [
        "San Francisco is at latitude 37.77\n",
        "London is at latitude 51.51\n",
        "Paris is at latitude 48.86\n",
        "Beijing is at latitude 39.92\n",
        "Chennai is at latitude 13.08"
      ],
      "id": "8d3fc428-ae7d-430b-9029-ab33286f6423"
    },
    {
      "cell_type": "markdown",
      "metadata": {},
      "source": [
        "#### 2.3.5 Think Data!\n",
        "\n",
        "What are some of the main differences that you can think of between\n",
        "`cities` and `cities_alt` *as* data? There is no right answer.\n",
        "\n",
        "> **Tip**\n",
        ">\n",
        "> I just want you to think about these *as data*! If you were trying to\n",
        "> use `cities` and `cities_alt` as data what differences would you find\n",
        "> when accessing one or more ‘records’?\n",
        "\n",
        "-   Point 1 here.\n",
        "-   Point 2 here.\n",
        "-   Point 3 here.\n",
        "\n",
        "### 2.4 Add to Git/GitHub\n",
        "\n",
        "Now follow the same process that you used last week to ensure that your\n",
        "edited notebook is updated in Git and then synchronised with GitHub."
      ],
      "id": "6f46298d-81a9-43a3-9516-3d6e561da1b1"
    }
  ],
  "nbformat": 4,
  "nbformat_minor": 5,
  "metadata": {
    "kernelspec": {
      "name": "python3",
      "display_name": "Python 3 (ipykernel)",
      "language": "python",
      "path": "/Users/jreades/anaconda3/envs/sds/share/jupyter/kernels/python3"
    },
    "language_info": {
      "name": "python",
      "codemirror_mode": {
        "name": "ipython",
        "version": "3"
      },
      "file_extension": ".py",
      "mimetype": "text/x-python",
      "nbconvert_exporter": "python",
      "pygments_lexer": "ipython3",
      "version": "3.12.2"
    }
  }
}